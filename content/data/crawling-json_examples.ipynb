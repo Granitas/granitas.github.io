{
 "cells": [
  {
   "cell_type": "code",
   "execution_count": 8,
   "metadata": {
    "collapsed": false
   },
   "outputs": [],
   "source": [
    "from lxml import etree\n",
    "from parsel import Selector\n",
    "\n",
    "data = \"\"\"{\n",
    "    \"one\": {\n",
    "        \"two\": [{\n",
    "            \"four\": {\n",
    "                \"name\": \"four1_name\"\n",
    "            }\n",
    "        }, {\n",
    "            \"four\": {\n",
    "                \"name\": \"four2_name\"\n",
    "            }\n",
    "        }]\n",
    "    }\n",
    "}\"\"\"\n"
   ]
  },
  {
   "cell_type": "code",
   "execution_count": null,
   "metadata": {
    "collapsed": true
   },
   "outputs": [],
   "source": [
    "# Goal to extract name values from the json tree above"
   ]
  },
  {
   "cell_type": "code",
   "execution_count": 33,
   "metadata": {
    "collapsed": false
   },
   "outputs": [
    {
     "name": "stdout",
     "output_type": "stream",
     "text": [
      "<program>\n",
      "  <var name=\"foo\">\n",
      "    <object>\n",
      "      <property name=\"one\">\n",
      "        <object>\n",
      "          <property name=\"two\">\n",
      "            <array>\n",
      "              <object>\n",
      "                <property name=\"four\">\n",
      "                  <object>\n",
      "                    <property name=\"name\">\n",
      "                      <string>four1_name</string>\n",
      "                    </property>\n",
      "                  </object>\n",
      "                </property>\n",
      "              </object>\n",
      "              <object>\n",
      "                <property name=\"four\">\n",
      "                  <object>\n",
      "                    <property name=\"name\">\n",
      "                      <string>four2_name</string>\n",
      "                    </property>\n",
      "                  </object>\n",
      "                </property>\n",
      "              </object>\n",
      "            </array>\n",
      "          </property>\n",
      "        </object>\n",
      "      </property>\n",
      "    </object>\n",
      "  </var>\n",
      "</program>\n",
      "\n",
      "--------------------------------------------------------------------------------\n",
      "['four1_name', 'four2_name']\n"
     ]
    }
   ],
   "source": [
    "## Solution using js2xml\n",
    "import js2xml\n",
    "# convert json to xml\n",
    "root = js2xml.parse('var foo = ' + data)\n",
    "print(etree.tostring(root, pretty_print=True).decode('utf-8'))\n",
    "# parse xml\n",
    "sel = Selector(root=root)\n",
    "print('-' * 80)\n",
    "print(sel.xpath(\"//property[@name='name']/string/text()\").extract())"
   ]
  },
  {
   "cell_type": "code",
   "execution_count": 34,
   "metadata": {
    "collapsed": false
   },
   "outputs": [
    {
     "name": "stdout",
     "output_type": "stream",
     "text": [
      "<root>\n",
      "  <one>\n",
      "    <two>\n",
      "      <item>\n",
      "        <four>\n",
      "          <name>four1_name</name>\n",
      "        </four>\n",
      "      </item>\n",
      "      <item>\n",
      "        <four>\n",
      "          <name>four2_name</name>\n",
      "        </four>\n",
      "      </item>\n",
      "    </two>\n",
      "  </one>\n",
      "</root>\n",
      "\n",
      "--------------------------------------------------------------------------------\n",
      "['four1_name', 'four2_name']\n"
     ]
    }
   ],
   "source": [
    "## Solution using dicttoxml\n",
    "from dicttoxml import dicttoxml\n",
    "import json\n",
    "root = dicttoxml(json.loads(data), attr_type=False)\n",
    "print(etree.tostring(etree.fromstring(root), pretty_print=True).decode('utf-8'))\n",
    "sel = Selector(text=root.decode('utf-8'))\n",
    "print('-' * 80)\n",
    "print(sel.xpath(\"//name/text()\").extract())"
   ]
  },
  {
   "cell_type": "code",
   "execution_count": null,
   "metadata": {
    "collapsed": true
   },
   "outputs": [],
   "source": []
  }
 ],
 "metadata": {
  "kernelspec": {
   "display_name": "Python 3",
   "language": "python",
   "name": "python3"
  },
  "language_info": {
   "codemirror_mode": {
    "name": "ipython",
    "version": 3
   },
   "file_extension": ".py",
   "mimetype": "text/x-python",
   "name": "python",
   "nbconvert_exporter": "python",
   "pygments_lexer": "ipython3",
   "version": "3.5.2"
  }
 },
 "nbformat": 4,
 "nbformat_minor": 0
}
